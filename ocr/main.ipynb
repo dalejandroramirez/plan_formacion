{
 "cells": [
  {
   "cell_type": "markdown",
   "metadata": {},
   "source": [
    "# ¿Qué es el reconocimiento óptico de caracteres (OCR)?\n",
    "\n",
    "- Tesseract\n",
    "- OCRopus\n",
    "- Ocrad"
   ]
  },
  {
   "cell_type": "markdown",
   "metadata": {},
   "source": [
    "##  OCRopus\n",
    "Desarrollado por Google, es una colección de herramientas relacionadas con OCR que amplía las capacidades del motor Tesseract OCR.\n",
    "\n",
    "### Ventajas\n",
    "- **Análisis de diseño**: OCRopus destaca en el análisis de diseño preciso, lo que lo hace ideal para documentos con diseños complejos o estructuras de varias columnas.\n",
    "- **Reconocimiento de texto avanzado**: al aprovechar el preciso motor OCR de Tesseract y los componentes adicionales, OCRopus mejora la precisión del reconocimiento, especialmente para documentos difíciles.\n",
    "- **Personalización**: OCRopus le permite generar datos de entrenamiento y crear modelos OCR personalizados adaptados a requisitos específicos, lo que permite un mayor control y una precisión mejorada en aplicaciones especializadas.\n",
    "\n",
    "### Desventajas \n",
    "\n",
    "- **Costos computacionales**\n",
    "- **Curva de aprendizaje elevada**\n"
   ]
  },
  {
   "cell_type": "markdown",
   "metadata": {},
   "source": [
    "## YOLO (You Only Look Once)"
   ]
  },
  {
   "cell_type": "markdown",
   "metadata": {},
   "source": [
    "Esta técnica utiliza un tipo de red Neuronal Convolucional llamada Darknet para la clasificacion de imágenes y le añade la parte de la detección, es decir un “cuadradito” con las posiciones x e y, alto y ancho del objeto encontrado.\n",
    "\n",
    "El modelo YOLO está basado en una red convolucional inspirada\n",
    "en GoogleNet para la clasificación de imágenes. Dicha red fue entrenada inicialmente para resolver\n",
    "problemas de clasificación de ImageNet y luego fue adaptada para abordar problemas de detección.\n",
    "EL objetivo final de YOLO es crea un vector, el cual simplifica los objetos detectados y las\n",
    "coordenadas en donde se encuentra el objeto. "
   ]
  },
  {
   "cell_type": "code",
   "execution_count": null,
   "metadata": {},
   "outputs": [],
   "source": [
    "!wget https://github.com/ultralytics/yolov5/releases/download/v6.0/yolov5s.pt"
   ]
  },
  {
   "cell_type": "markdown",
   "metadata": {},
   "source": [
    "### Funcionamiento"
   ]
  },
  {
   "cell_type": "markdown",
   "metadata": {},
   "source": [
    "YOLO funciona de la siguiente manera: comienza colocando una cuadricula\n",
    "o grid sobre la imagen. El grid divide la imagen de entrada en una cuadricula 𝑆 × 𝑆, luego. para cada celda de la cuadricula se realizá un método de detección de objetos.\n",
    "\n",
    "YOLO desea construir es un modelo que produzca como salida un tensor de tamaño $𝑆 × 𝑆 × (5 + n)$ donde para cada rectangulo se obtendrá un vector con la probabilidad de pertenencia del objeto, su posicion, y las $n$ clases posibles \n",
    "\n"
   ]
  },
  {
   "cell_type": "markdown",
   "metadata": {},
   "source": [
    "**Si existen 2 objetos**\n",
    "\n",
    "YOLO hace uso de las cajas de anclaje; son rectángulos a diferentes escalas y rotaciones. Por ejemplo, si existe un peatón y un carro, entonces se crearán 2 cajas de anclaje y por lo tanto se tendra en el vector de salida el doble de elementos, teniendo un vector de salida de tamaño $$𝑆 × 𝑆 × k ×(5 + n)  ,$$ donde $k$ es el número de cajas de anclaje. \n",
    "\n",
    "<center>\n",
    "<img src='./images/dos_objetos.png' width = '300'>\n",
    "</center>"
   ]
  },
  {
   "cell_type": "markdown",
   "metadata": {},
   "source": [
    "**Multiples detecciones**\n",
    "\n",
    "<center>\n",
    "<img src='./images/multiple.png' width = '300'>\n",
    "</center>\n",
    "\n",
    "YOLO hace uso de la propiedad intersección sobre unión y supresión no máxima:\n",
    " - **Intersección sobre unión (IOU)** Es una métrica de evaluación que indica cúanto se parecen dos conjuntos $\\left(\\frac{\\mathbb{P}\\left(real\\cap predict\\right) }{\\mathbb{P}(predict)}\\right)$\n",
    " - **Supresión no máxima** Elimina varios delimitadores predichos para obtener una sola detección por objeto.  \n",
    "  - - **Paso 1:** Inicialmente analiza las probabilidades asociadas a cada detección y escoge la predicción\n",
    "con mayor probabilidad.\n",
    "  - - **Paso 2** Suprime los cuadros que tienen un valor de IOU bajo con respecto al\n",
    "cuadro delimitador seleccionado en el anterior paso"
   ]
  },
  {
   "cell_type": "markdown",
   "metadata": {},
   "source": [
    "proximamente..."
   ]
  },
  {
   "cell_type": "markdown",
   "metadata": {},
   "source": [
    "- VGGNet"
   ]
  }
 ],
 "metadata": {
  "kernelspec": {
   "display_name": "env",
   "language": "python",
   "name": "python3"
  },
  "language_info": {
   "codemirror_mode": {
    "name": "ipython",
    "version": 3
   },
   "file_extension": ".py",
   "mimetype": "text/x-python",
   "name": "python",
   "nbconvert_exporter": "python",
   "pygments_lexer": "ipython3",
   "version": "3.10.12"
  }
 },
 "nbformat": 4,
 "nbformat_minor": 2
}
